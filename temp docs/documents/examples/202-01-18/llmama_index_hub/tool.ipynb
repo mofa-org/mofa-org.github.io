{
 "cells": [
  {
   "cell_type": "code",
   "metadata": {
    "ExecuteTime": {
     "end_time": "2025-01-10T04:16:07.461480Z",
     "start_time": "2025-01-10T04:16:07.456127Z"
    }
   },
   "source": [
    "pip install llama-index-agent-openai  llama-index-tools-arxiv   llama-index-tools-duckduckgo llama-index-readers-web\n",
    "\n"
   ],
   "outputs": [
    {
     "ename": "SyntaxError",
     "evalue": "invalid syntax (180754268.py, line 1)",
     "output_type": "error",
     "traceback": [
      "\u001B[0;36m  Cell \u001B[0;32mIn[2], line 1\u001B[0;36m\u001B[0m\n\u001B[0;31m    pip install llama-index-agent-openai  llama-index-tools-arxiv   llama-index-tools-duckduckgo llama-index-readers-web\u001B[0m\n\u001B[0m        ^\u001B[0m\n\u001B[0;31mSyntaxError\u001B[0m\u001B[0;31m:\u001B[0m invalid syntax\n"
     ]
    }
   ],
   "execution_count": 2
  },
  {
   "cell_type": "code",
   "execution_count": 7,
   "metadata": {
    "ExecuteTime": {
     "end_time": "2025-01-08T02:29:47.435257Z",
     "start_time": "2025-01-08T02:29:45.811391Z"
    }
   },
   "outputs": [],
   "source": [
    "import openai\n",
    "import os\n",
    "from dotenv import load_dotenv\n",
    "from llama_index.agent.openai import OpenAIAgent\n",
    "# 加载.env文件\n",
    "load_dotenv()\n",
    "\n",
    "# 从环境变量中获取API key\n",
    "api_key = os.getenv(\"OPENAI_API_KEY\")\n",
    "if api_key:\n",
    "    openai.api_key = api_key\n",
    "else:\n",
    "    raise ValueError(\"未找到OPENAI_API_KEY环境变量，请检查.env文件配置\")\n",
    "\n",
    "openai.api_key = api_key"
   ]
  },
  {
   "cell_type": "code",
   "execution_count": 3,
   "metadata": {
    "ExecuteTime": {
     "end_time": "2025-01-08T02:29:59.132900Z",
     "start_time": "2025-01-08T02:29:50.902074Z"
    }
   },
   "outputs": [
    {
     "name": "stdout",
     "output_type": "stream",
     "text": [
      "Added user message to memory: Whats going on with the superconductor lk-99\n",
      "=== Calling Function ===\n",
      "Calling function: arxiv_query with args: {\"query\":\"superconductor LK-99\",\"sort_by\":\"relevance\"}\n",
      "Got output: [Document(id_='75995713-1e68-4d0f-8019-fe26dec5f58d', embedding=None, metadata={}, excluded_embed_metadata_keys=[], excluded_llm_metadata_keys=[], relationships={}, metadata_template='{key}: {value}', metadata_separator='\\n', text_resource=MediaResource(embeddings=None, data=None, text='http://arxiv.org/pdf/2307.16402v2: Synthesis of possible room temperature superconductor LK-99:Pb$_9$Cu(PO$_4$)$_6$O\\nThe quest for room-temperature superconductors has been teasing scientists\\nand physicists, since its inception in 1911 itself. Several assertions have\\nalready been made about room temperature superconductivity but were never\\nverified or reproduced across the labs. The cuprates were the earliest high\\ntransition temperature superconductors, and it seems that copper has done the\\nmagic once again. Last week, a Korean group synthesized a Lead Apatite-based\\ncompound LK-99, showing a T$_c$ of above 400$^\\\\circ$K. The signatures of\\nsuperconductivity in the compound are very promising, in terms of resistivity\\n(R = 0) and diamagnetism at T$_c$. Although, the heat capacity (C$_p$) did not\\nshow the obvious transition at T$_c$. Inspired by the interesting claims of\\nabove room temperature superconductivity in LK-99, in this article, we report\\nthe synthesis of polycrystalline samples of LK-99, by following the same heat\\ntreatment as reported in [1,2] by the two-step precursor method. The phase is\\nconfirmed through X-ray diffraction (XRD) measurements, performed after each\\nheat treatment. The room temperature diamagnetism is not evidenced by the\\nlevitation of a permanent magnet over the sample or vice versa. Further\\nmeasurements for the confirmation of bulk superconductivity on variously\\nsynthesized samples are underway. Our results on the present LK-99 sample,\\nbeing synthesized at 925$^\\\\circ$C, as of now do not approve the appearance of\\nbulk superconductivity at room temperature. Further studies with different heat\\ntreatments are though, yet underway.', mimetype=None, path=None, url=None), image_resource=None, audio_resource=None, video_resource=None, text_template='{metadata_str}\\n\\n{content}'), Document(id_='c7550018-3394-45e9-b96f-ad441d093779', embedding=None, metadata={}, excluded_embed_metadata_keys=[], excluded_llm_metadata_keys=[], relationships={}, metadata_template='{key}: {value}', metadata_separator='\\n', text_resource=MediaResource(embeddings=None, data=None, text='http://arxiv.org/pdf/1509.05138v1: Superfluid density of a pseudogapped superconductor near SIT\\nWe analyze critical behavior of superfluid density $\\\\rho_s$ in strongly\\ndisordered superconductors near superconductor-insulator transition and compare\\nit with the behavior of the spectral gap $\\\\Delta$ for collective excitations.\\nWe show that in contrast to conventional superconductors, the superconductors\\nwith preformed pairs display unusual scaling relation $\\\\rho_s \\\\propto \\\\Delta^2$\\nclose to superconductor-insulator transition. This relation have been reported\\nin very recent experiments.', mimetype=None, path=None, url=None), image_resource=None, audio_resource=None, video_resource=None, text_template='{metadata_str}\\n\\n{content}'), Document(id_='11916f2e-b98b-44b7-895a-a20c65ed1dfc', embedding=None, metadata={}, excluded_embed_metadata_keys=[], excluded_llm_metadata_keys=[], relationships={}, metadata_template='{key}: {value}', metadata_separator='\\n', text_resource=MediaResource(embeddings=None, data=None, text='http://arxiv.org/pdf/cond-mat/0405236v2: Supercurrent in Nodal Superconductors\\nIn recent years, a number of nodal superconductors have been identified;\\nd-wave superconductors in high T_c cuprates, CeCoIn$_5$, and\\n\\\\kappa-(ET)_2Cu(NCS)_2, 2D f-wave superconductor in Sr_2RuO_4 and hybrid\\ns+g-wave superconductor in YNi_2B_2C. In this work we conduct a theoretical\\nstudy of nodal superconductors in the presence of supercurrent. For simplicity,\\nwe limit ourselves to d-wave and 2D f-wave superconductors. We compute the\\nquasiparticle density of states and the temperature dependence of the depairing\\ncritical current in nodal superconductors, both of which are accessible\\nexperimentally.', mimetype=None, path=None, url=None), image_resource=None, audio_resource=None, video_resource=None, text_template='{metadata_str}\\n\\n{content}')]\n",
      "========================\n",
      "\n",
      "The superconductor LK-99, which is a Lead Apatite-based compound, has shown promising signs of superconductivity with a transition temperature (Tc) above 400K. The compound exhibits characteristics such as zero resistivity (R = 0) and diamagnetism at Tc. However, the heat capacity (Cp) did not show an obvious transition at Tc. The synthesis of polycrystalline samples of LK-99 has been reported, but the bulk superconductivity at room temperature has not been confirmed yet. Further studies and measurements are underway to confirm the presence of bulk superconductivity in LK-99.\n",
      "\n",
      "For more details, you can access the full article [here](http://arxiv.org/pdf/2307.16402v2).\n"
     ]
    }
   ],
   "source": [
    "from llama_index.tools.arxiv.base import ArxivToolSpec\n",
    "arxiv_tool = ArxivToolSpec()\n",
    "agent = OpenAIAgent.from_tools(\n",
    "    arxiv_tool.to_tool_list(),\n",
    "    verbose=True,\n",
    ")\n",
    "\n",
    "print(agent.chat(\"Whats going on with the superconductor lk-99\"))"
   ]
  },
  {
   "cell_type": "code",
   "execution_count": 9,
   "metadata": {},
   "outputs": [
    {
     "data": {
      "text/plain": [
       "AgentChatResponse(response='It seems there was an error while trying to retrieve the latest developments in machine learning. The search engine may have rate-limited the request. Would you like me to try again later or assist you with something else?', sources=[ToolOutput(content='Error: https://duckduckgo.com/ 202 Ratelimit', tool_name='duckduckgo_full_search', raw_input={'kwargs': {'query': 'latest developments in machine learning', 'max_results': 5}}, raw_output=RatelimitException('https://duckduckgo.com/ 202 Ratelimit'), is_error=False)], source_nodes=[], is_dummy_stream=False, metadata=None)"
      ]
     },
     "execution_count": 9,
     "metadata": {},
     "output_type": "execute_result"
    }
   ],
   "source": [
    "from llama_index.tools.duckduckgo import DuckDuckGoSearchToolSpec\n",
    "from llama_index.agent.openai import OpenAIAgent\n",
    "\n",
    "tool_spec = DuckDuckGoSearchToolSpec()\n",
    "\n",
    "agent = OpenAIAgent.from_tools(tool_spec.to_tool_list())\n",
    "\n",
    "agent.chat(\"What's going on with the superconductor lk-99\")\n",
    "agent.chat(\"what are the latest developments in machine learning\")"
   ]
  },
  {
   "cell_type": "code",
   "execution_count": null,
   "metadata": {},
   "outputs": [],
   "source": []
  }
 ],
 "metadata": {
  "kernelspec": {
   "display_name": "py310",
   "language": "python",
   "name": "python3"
  },
  "language_info": {
   "codemirror_mode": {
    "name": "ipython",
    "version": 3
   },
   "file_extension": ".py",
   "mimetype": "text/x-python",
   "name": "python",
   "nbconvert_exporter": "python",
   "pygments_lexer": "ipython3",
   "version": "3.10.13"
  }
 },
 "nbformat": 4,
 "nbformat_minor": 2
}
